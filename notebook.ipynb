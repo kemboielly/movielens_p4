{
 "cells": [
  {
   "cell_type": "markdown",
   "metadata": {},
   "source": [
    "# Kemboi Elly Kiplimo\n",
    "## DS-FT05\n",
    "## Phase 4 Project\n",
    "# MovieLens: Building a Model for Personalized Movie Recommendations Based on User Ratings\"\n",
    "<img >"
   ]
  },
  {
   "cell_type": "markdown",
   "metadata": {},
   "source": [
    "## Project Overview\n",
    "Movie recommendation systems are becoming increasingly important in the age of personalized content. In this project, we will build a model that provides top 5 movie recommendations to a user based on their ratings of other movies. We will use the open-source MovieLens dataset from GroupLens, which contains 100K data points of various movies and user\n",
    "\n",
    "## a. Data Analytic Question\n",
    "How can we provide top 5 movie recommendations to a user based on their ratings of other movies?\n",
    "\n",
    "###  Problem Statement\n",
    "The goal of this project is to build a movie recommendation system from the GroupLens research lab at the University of Minnesota that can provide personalized movie recommendations to users based on their ratings of other movies. The system should be able to handle the cold start problem and provide accurate recommendations to users.\n",
    "\n",
    "###  Main Objectives\n",
    "1. Build a movie recommendation system using collaborative filtering\n",
    "2. Implement a hybrid approach using content-based filtering to address the cold start problem\n",
    "3. Provide top 5 movie recommendations to a user based on their ratings of other movies\n",
    "\n",
    "### Specific Objectives\n",
    "1. Preprocess and clean the MovieLens dataset\n",
    "2. Build a collaborative filtering model to provide movie recommendations\n",
    "3. Implement a content-based filtering approach to address the cold start problem\n",
    "4. Evaluate the performance of the recommendation system using regression metrics such as RMSE and MAE\n",
    "\n",
    "## b. Metric of Success\n",
    "The success of the project will be measured by the accuracy of the movie recommendations provided by the system. We will evaluate the performance of the system using regression metrics such as RMSE and MAE. The system should be able to provide accurate recommendations to users and handle the cold start problem effectively.\n",
    "\n",
    "## c. Experimental Design\n",
    "1. Importing Libraries\n",
    "2. Loading data\n",
    "3. \n",
    "4. Preparing for Collaborative Filtering\n",
    "5. Building Collaborative Filtering Model\n",
    "6. Building Content Based Filtering Model\n",
    "7. Testing the Recommendation System\n",
    "8. Conclusions and Recommendations\n",
    "## d. Data Understanding\n",
    "\n",
    "\n"
   ]
  },
  {
   "cell_type": "markdown",
   "metadata": {},
   "source": [
    "### 1. Import the necessary libraries"
   ]
  },
  {
   "cell_type": "code",
   "execution_count": 36,
   "metadata": {},
   "outputs": [],
   "source": [
    "import pandas as pd\n",
    "import numpy as np\n",
    "import matplotlib.pyplot as plt\n",
    "from surprise import Dataset\n",
    "from surprise.model_selection import train_test_split\n",
    "from surprise import Dataset, Reader, SVD         \n",
    "from surprise.model_selection import cross_validate \n",
    "from sklearn.feature_extraction.text import TfidfVectorizer\n",
    "from sklearn.metrics.pairwise import linear_kernel\n"
   ]
  },
  {
   "cell_type": "markdown",
   "metadata": {},
   "source": [
    "### 2. Loading the Data"
   ]
  },
  {
   "cell_type": "code",
   "execution_count": 16,
   "metadata": {},
   "outputs": [],
   "source": [
    "links = pd.read_csv('data/ml-latest-small/links.csv')\n",
    "movie = pd.read_csv('data/ml-latest-small/movies.csv')\n",
    "rating = pd.read_csv('data/ml-latest-small/ratings.csv')\n",
    "tags = pd.read_csv('data/ml-latest-small/tags.csv')"
   ]
  },
  {
   "cell_type": "code",
   "execution_count": 17,
   "metadata": {},
   "outputs": [
    {
     "data": {
      "text/html": [
       "<div>\n",
       "<style scoped>\n",
       "    .dataframe tbody tr th:only-of-type {\n",
       "        vertical-align: middle;\n",
       "    }\n",
       "\n",
       "    .dataframe tbody tr th {\n",
       "        vertical-align: top;\n",
       "    }\n",
       "\n",
       "    .dataframe thead th {\n",
       "        text-align: right;\n",
       "    }\n",
       "</style>\n",
       "<table border=\"1\" class=\"dataframe\">\n",
       "  <thead>\n",
       "    <tr style=\"text-align: right;\">\n",
       "      <th></th>\n",
       "      <th>movieId</th>\n",
       "      <th>imdbId</th>\n",
       "      <th>tmdbId</th>\n",
       "    </tr>\n",
       "  </thead>\n",
       "  <tbody>\n",
       "    <tr>\n",
       "      <th>0</th>\n",
       "      <td>1</td>\n",
       "      <td>114709</td>\n",
       "      <td>862.0</td>\n",
       "    </tr>\n",
       "    <tr>\n",
       "      <th>1</th>\n",
       "      <td>2</td>\n",
       "      <td>113497</td>\n",
       "      <td>8844.0</td>\n",
       "    </tr>\n",
       "    <tr>\n",
       "      <th>2</th>\n",
       "      <td>3</td>\n",
       "      <td>113228</td>\n",
       "      <td>15602.0</td>\n",
       "    </tr>\n",
       "    <tr>\n",
       "      <th>3</th>\n",
       "      <td>4</td>\n",
       "      <td>114885</td>\n",
       "      <td>31357.0</td>\n",
       "    </tr>\n",
       "    <tr>\n",
       "      <th>4</th>\n",
       "      <td>5</td>\n",
       "      <td>113041</td>\n",
       "      <td>11862.0</td>\n",
       "    </tr>\n",
       "  </tbody>\n",
       "</table>\n",
       "</div>"
      ],
      "text/plain": [
       "   movieId  imdbId   tmdbId\n",
       "0        1  114709    862.0\n",
       "1        2  113497   8844.0\n",
       "2        3  113228  15602.0\n",
       "3        4  114885  31357.0\n",
       "4        5  113041  11862.0"
      ]
     },
     "execution_count": 17,
     "metadata": {},
     "output_type": "execute_result"
    }
   ],
   "source": [
    "links.head()"
   ]
  },
  {
   "cell_type": "code",
   "execution_count": 18,
   "metadata": {},
   "outputs": [
    {
     "data": {
      "text/html": [
       "<div>\n",
       "<style scoped>\n",
       "    .dataframe tbody tr th:only-of-type {\n",
       "        vertical-align: middle;\n",
       "    }\n",
       "\n",
       "    .dataframe tbody tr th {\n",
       "        vertical-align: top;\n",
       "    }\n",
       "\n",
       "    .dataframe thead th {\n",
       "        text-align: right;\n",
       "    }\n",
       "</style>\n",
       "<table border=\"1\" class=\"dataframe\">\n",
       "  <thead>\n",
       "    <tr style=\"text-align: right;\">\n",
       "      <th></th>\n",
       "      <th>movieId</th>\n",
       "      <th>title</th>\n",
       "      <th>genres</th>\n",
       "    </tr>\n",
       "  </thead>\n",
       "  <tbody>\n",
       "    <tr>\n",
       "      <th>0</th>\n",
       "      <td>1</td>\n",
       "      <td>Toy Story (1995)</td>\n",
       "      <td>Adventure|Animation|Children|Comedy|Fantasy</td>\n",
       "    </tr>\n",
       "    <tr>\n",
       "      <th>1</th>\n",
       "      <td>2</td>\n",
       "      <td>Jumanji (1995)</td>\n",
       "      <td>Adventure|Children|Fantasy</td>\n",
       "    </tr>\n",
       "    <tr>\n",
       "      <th>2</th>\n",
       "      <td>3</td>\n",
       "      <td>Grumpier Old Men (1995)</td>\n",
       "      <td>Comedy|Romance</td>\n",
       "    </tr>\n",
       "    <tr>\n",
       "      <th>3</th>\n",
       "      <td>4</td>\n",
       "      <td>Waiting to Exhale (1995)</td>\n",
       "      <td>Comedy|Drama|Romance</td>\n",
       "    </tr>\n",
       "    <tr>\n",
       "      <th>4</th>\n",
       "      <td>5</td>\n",
       "      <td>Father of the Bride Part II (1995)</td>\n",
       "      <td>Comedy</td>\n",
       "    </tr>\n",
       "  </tbody>\n",
       "</table>\n",
       "</div>"
      ],
      "text/plain": [
       "   movieId                               title  \\\n",
       "0        1                    Toy Story (1995)   \n",
       "1        2                      Jumanji (1995)   \n",
       "2        3             Grumpier Old Men (1995)   \n",
       "3        4            Waiting to Exhale (1995)   \n",
       "4        5  Father of the Bride Part II (1995)   \n",
       "\n",
       "                                        genres  \n",
       "0  Adventure|Animation|Children|Comedy|Fantasy  \n",
       "1                   Adventure|Children|Fantasy  \n",
       "2                               Comedy|Romance  \n",
       "3                         Comedy|Drama|Romance  \n",
       "4                                       Comedy  "
      ]
     },
     "execution_count": 18,
     "metadata": {},
     "output_type": "execute_result"
    }
   ],
   "source": [
    "movie.head()"
   ]
  },
  {
   "cell_type": "code",
   "execution_count": 34,
   "metadata": {},
   "outputs": [
    {
     "data": {
      "text/plain": [
       "movieId     0\n",
       "title       0\n",
       "genres      0\n",
       "imdbId_x    0\n",
       "tmdbId_x    0\n",
       "imdbId_y    0\n",
       "tmdbId_y    0\n",
       "dtype: int64"
      ]
     },
     "execution_count": 34,
     "metadata": {},
     "output_type": "execute_result"
    }
   ],
   "source": [
    "movie.isna().sum()"
   ]
  },
  {
   "cell_type": "code",
   "execution_count": 19,
   "metadata": {},
   "outputs": [
    {
     "data": {
      "text/html": [
       "<div>\n",
       "<style scoped>\n",
       "    .dataframe tbody tr th:only-of-type {\n",
       "        vertical-align: middle;\n",
       "    }\n",
       "\n",
       "    .dataframe tbody tr th {\n",
       "        vertical-align: top;\n",
       "    }\n",
       "\n",
       "    .dataframe thead th {\n",
       "        text-align: right;\n",
       "    }\n",
       "</style>\n",
       "<table border=\"1\" class=\"dataframe\">\n",
       "  <thead>\n",
       "    <tr style=\"text-align: right;\">\n",
       "      <th></th>\n",
       "      <th>userId</th>\n",
       "      <th>movieId</th>\n",
       "      <th>rating</th>\n",
       "      <th>timestamp</th>\n",
       "    </tr>\n",
       "  </thead>\n",
       "  <tbody>\n",
       "    <tr>\n",
       "      <th>0</th>\n",
       "      <td>1</td>\n",
       "      <td>1</td>\n",
       "      <td>4.0</td>\n",
       "      <td>964982703</td>\n",
       "    </tr>\n",
       "    <tr>\n",
       "      <th>1</th>\n",
       "      <td>1</td>\n",
       "      <td>3</td>\n",
       "      <td>4.0</td>\n",
       "      <td>964981247</td>\n",
       "    </tr>\n",
       "    <tr>\n",
       "      <th>2</th>\n",
       "      <td>1</td>\n",
       "      <td>6</td>\n",
       "      <td>4.0</td>\n",
       "      <td>964982224</td>\n",
       "    </tr>\n",
       "    <tr>\n",
       "      <th>3</th>\n",
       "      <td>1</td>\n",
       "      <td>47</td>\n",
       "      <td>5.0</td>\n",
       "      <td>964983815</td>\n",
       "    </tr>\n",
       "    <tr>\n",
       "      <th>4</th>\n",
       "      <td>1</td>\n",
       "      <td>50</td>\n",
       "      <td>5.0</td>\n",
       "      <td>964982931</td>\n",
       "    </tr>\n",
       "  </tbody>\n",
       "</table>\n",
       "</div>"
      ],
      "text/plain": [
       "   userId  movieId  rating  timestamp\n",
       "0       1        1     4.0  964982703\n",
       "1       1        3     4.0  964981247\n",
       "2       1        6     4.0  964982224\n",
       "3       1       47     5.0  964983815\n",
       "4       1       50     5.0  964982931"
      ]
     },
     "execution_count": 19,
     "metadata": {},
     "output_type": "execute_result"
    }
   ],
   "source": [
    "rating.head()"
   ]
  },
  {
   "cell_type": "code",
   "execution_count": 20,
   "metadata": {},
   "outputs": [
    {
     "data": {
      "text/html": [
       "<div>\n",
       "<style scoped>\n",
       "    .dataframe tbody tr th:only-of-type {\n",
       "        vertical-align: middle;\n",
       "    }\n",
       "\n",
       "    .dataframe tbody tr th {\n",
       "        vertical-align: top;\n",
       "    }\n",
       "\n",
       "    .dataframe thead th {\n",
       "        text-align: right;\n",
       "    }\n",
       "</style>\n",
       "<table border=\"1\" class=\"dataframe\">\n",
       "  <thead>\n",
       "    <tr style=\"text-align: right;\">\n",
       "      <th></th>\n",
       "      <th>userId</th>\n",
       "      <th>movieId</th>\n",
       "      <th>tag</th>\n",
       "      <th>timestamp</th>\n",
       "    </tr>\n",
       "  </thead>\n",
       "  <tbody>\n",
       "    <tr>\n",
       "      <th>0</th>\n",
       "      <td>2</td>\n",
       "      <td>60756</td>\n",
       "      <td>funny</td>\n",
       "      <td>1445714994</td>\n",
       "    </tr>\n",
       "    <tr>\n",
       "      <th>1</th>\n",
       "      <td>2</td>\n",
       "      <td>60756</td>\n",
       "      <td>Highly quotable</td>\n",
       "      <td>1445714996</td>\n",
       "    </tr>\n",
       "    <tr>\n",
       "      <th>2</th>\n",
       "      <td>2</td>\n",
       "      <td>60756</td>\n",
       "      <td>will ferrell</td>\n",
       "      <td>1445714992</td>\n",
       "    </tr>\n",
       "    <tr>\n",
       "      <th>3</th>\n",
       "      <td>2</td>\n",
       "      <td>89774</td>\n",
       "      <td>Boxing story</td>\n",
       "      <td>1445715207</td>\n",
       "    </tr>\n",
       "    <tr>\n",
       "      <th>4</th>\n",
       "      <td>2</td>\n",
       "      <td>89774</td>\n",
       "      <td>MMA</td>\n",
       "      <td>1445715200</td>\n",
       "    </tr>\n",
       "  </tbody>\n",
       "</table>\n",
       "</div>"
      ],
      "text/plain": [
       "   userId  movieId              tag   timestamp\n",
       "0       2    60756            funny  1445714994\n",
       "1       2    60756  Highly quotable  1445714996\n",
       "2       2    60756     will ferrell  1445714992\n",
       "3       2    89774     Boxing story  1445715207\n",
       "4       2    89774              MMA  1445715200"
      ]
     },
     "execution_count": 20,
     "metadata": {},
     "output_type": "execute_result"
    }
   ],
   "source": [
    "tags.head()"
   ]
  },
  {
   "cell_type": "code",
   "execution_count": 21,
   "metadata": {},
   "outputs": [
    {
     "name": "stdout",
     "output_type": "stream",
     "text": [
      "<class 'pandas.core.frame.DataFrame'>\n",
      "RangeIndex: 100836 entries, 0 to 100835\n",
      "Data columns (total 4 columns):\n",
      " #   Column     Non-Null Count   Dtype  \n",
      "---  ------     --------------   -----  \n",
      " 0   userId     100836 non-null  int64  \n",
      " 1   movieId    100836 non-null  int64  \n",
      " 2   rating     100836 non-null  float64\n",
      " 3   timestamp  100836 non-null  int64  \n",
      "dtypes: float64(1), int64(3)\n",
      "memory usage: 3.1 MB\n"
     ]
    }
   ],
   "source": [
    "rating.info()"
   ]
  },
  {
   "cell_type": "markdown",
   "metadata": {},
   "source": [
    "### 4. Preparing the data for Collaborative Filtering"
   ]
  },
  {
   "cell_type": "code",
   "execution_count": 22,
   "metadata": {},
   "outputs": [],
   "source": [
    "#Create Reader class instance\n",
    "reader = Reader(rating_scale=(0.5,5))\n",
    "#Load data and pass user id, movie ide, and rating column as input\n",
    "data = Dataset.load_from_df(rating[['userId','movieId','rating']], reader)"
   ]
  },
  {
   "cell_type": "code",
   "execution_count": 24,
   "metadata": {},
   "outputs": [
    {
     "data": {
      "text/plain": [
       "movieId    0\n",
       "imdbId     0\n",
       "tmdbId     8\n",
       "dtype: int64"
      ]
     },
     "execution_count": 24,
     "metadata": {},
     "output_type": "execute_result"
    }
   ],
   "source": [
    "#Check for the sum of null values in the links dataframe\n",
    "links.isna().sum()"
   ]
  },
  {
   "cell_type": "code",
   "execution_count": 25,
   "metadata": {},
   "outputs": [],
   "source": [
    "#Dropping the rows with null\n",
    "links = links.dropna(subset=['tmdbId'])\n",
    "#Converting tmbId datatype to int\n",
    "links['tmdbId'] = links['tmdbId'].astype('int')"
   ]
  },
  {
   "cell_type": "code",
   "execution_count": 29,
   "metadata": {},
   "outputs": [],
   "source": [
    "#Merge the movielens and tmbd datasets using movieid column  \n",
    "movie = movie.merge(links, left_on='movieId', right_on='movieId')\n",
    "#Merge the movie dataset and ratings\n",
    "movie_and_ratings = movie.merge(rating, on='movieId')"
   ]
  },
  {
   "cell_type": "code",
   "execution_count": 50,
   "metadata": {},
   "outputs": [
    {
     "data": {
      "text/html": [
       "<div>\n",
       "<style scoped>\n",
       "    .dataframe tbody tr th:only-of-type {\n",
       "        vertical-align: middle;\n",
       "    }\n",
       "\n",
       "    .dataframe tbody tr th {\n",
       "        vertical-align: top;\n",
       "    }\n",
       "\n",
       "    .dataframe thead th {\n",
       "        text-align: right;\n",
       "    }\n",
       "</style>\n",
       "<table border=\"1\" class=\"dataframe\">\n",
       "  <thead>\n",
       "    <tr style=\"text-align: right;\">\n",
       "      <th></th>\n",
       "      <th>movieId</th>\n",
       "      <th>title</th>\n",
       "      <th>genres</th>\n",
       "      <th>imdbId_x</th>\n",
       "      <th>tmdbId_x</th>\n",
       "      <th>imdbId_y</th>\n",
       "      <th>tmdbId_y</th>\n",
       "      <th>userId</th>\n",
       "      <th>rating</th>\n",
       "      <th>timestamp</th>\n",
       "    </tr>\n",
       "  </thead>\n",
       "  <tbody>\n",
       "    <tr>\n",
       "      <th>0</th>\n",
       "      <td>1</td>\n",
       "      <td>Toy Story (1995)</td>\n",
       "      <td>Adventure|Animation|Children|Comedy|Fantasy</td>\n",
       "      <td>114709</td>\n",
       "      <td>862</td>\n",
       "      <td>114709</td>\n",
       "      <td>862</td>\n",
       "      <td>1</td>\n",
       "      <td>4.0</td>\n",
       "      <td>964982703</td>\n",
       "    </tr>\n",
       "    <tr>\n",
       "      <th>1</th>\n",
       "      <td>1</td>\n",
       "      <td>Toy Story (1995)</td>\n",
       "      <td>Adventure|Animation|Children|Comedy|Fantasy</td>\n",
       "      <td>114709</td>\n",
       "      <td>862</td>\n",
       "      <td>114709</td>\n",
       "      <td>862</td>\n",
       "      <td>5</td>\n",
       "      <td>4.0</td>\n",
       "      <td>847434962</td>\n",
       "    </tr>\n",
       "    <tr>\n",
       "      <th>2</th>\n",
       "      <td>1</td>\n",
       "      <td>Toy Story (1995)</td>\n",
       "      <td>Adventure|Animation|Children|Comedy|Fantasy</td>\n",
       "      <td>114709</td>\n",
       "      <td>862</td>\n",
       "      <td>114709</td>\n",
       "      <td>862</td>\n",
       "      <td>7</td>\n",
       "      <td>4.5</td>\n",
       "      <td>1106635946</td>\n",
       "    </tr>\n",
       "    <tr>\n",
       "      <th>3</th>\n",
       "      <td>1</td>\n",
       "      <td>Toy Story (1995)</td>\n",
       "      <td>Adventure|Animation|Children|Comedy|Fantasy</td>\n",
       "      <td>114709</td>\n",
       "      <td>862</td>\n",
       "      <td>114709</td>\n",
       "      <td>862</td>\n",
       "      <td>15</td>\n",
       "      <td>2.5</td>\n",
       "      <td>1510577970</td>\n",
       "    </tr>\n",
       "    <tr>\n",
       "      <th>4</th>\n",
       "      <td>1</td>\n",
       "      <td>Toy Story (1995)</td>\n",
       "      <td>Adventure|Animation|Children|Comedy|Fantasy</td>\n",
       "      <td>114709</td>\n",
       "      <td>862</td>\n",
       "      <td>114709</td>\n",
       "      <td>862</td>\n",
       "      <td>17</td>\n",
       "      <td>4.5</td>\n",
       "      <td>1305696483</td>\n",
       "    </tr>\n",
       "    <tr>\n",
       "      <th>...</th>\n",
       "      <td>...</td>\n",
       "      <td>...</td>\n",
       "      <td>...</td>\n",
       "      <td>...</td>\n",
       "      <td>...</td>\n",
       "      <td>...</td>\n",
       "      <td>...</td>\n",
       "      <td>...</td>\n",
       "      <td>...</td>\n",
       "      <td>...</td>\n",
       "    </tr>\n",
       "    <tr>\n",
       "      <th>100818</th>\n",
       "      <td>193581</td>\n",
       "      <td>Black Butler: Book of the Atlantic (2017)</td>\n",
       "      <td>Action|Animation|Comedy|Fantasy</td>\n",
       "      <td>5476944</td>\n",
       "      <td>432131</td>\n",
       "      <td>5476944</td>\n",
       "      <td>432131</td>\n",
       "      <td>184</td>\n",
       "      <td>4.0</td>\n",
       "      <td>1537109082</td>\n",
       "    </tr>\n",
       "    <tr>\n",
       "      <th>100819</th>\n",
       "      <td>193583</td>\n",
       "      <td>No Game No Life: Zero (2017)</td>\n",
       "      <td>Animation|Comedy|Fantasy</td>\n",
       "      <td>5914996</td>\n",
       "      <td>445030</td>\n",
       "      <td>5914996</td>\n",
       "      <td>445030</td>\n",
       "      <td>184</td>\n",
       "      <td>3.5</td>\n",
       "      <td>1537109545</td>\n",
       "    </tr>\n",
       "    <tr>\n",
       "      <th>100820</th>\n",
       "      <td>193585</td>\n",
       "      <td>Flint (2017)</td>\n",
       "      <td>Drama</td>\n",
       "      <td>6397426</td>\n",
       "      <td>479308</td>\n",
       "      <td>6397426</td>\n",
       "      <td>479308</td>\n",
       "      <td>184</td>\n",
       "      <td>3.5</td>\n",
       "      <td>1537109805</td>\n",
       "    </tr>\n",
       "    <tr>\n",
       "      <th>100821</th>\n",
       "      <td>193587</td>\n",
       "      <td>Bungo Stray Dogs: Dead Apple (2018)</td>\n",
       "      <td>Action|Animation</td>\n",
       "      <td>8391976</td>\n",
       "      <td>483455</td>\n",
       "      <td>8391976</td>\n",
       "      <td>483455</td>\n",
       "      <td>184</td>\n",
       "      <td>3.5</td>\n",
       "      <td>1537110021</td>\n",
       "    </tr>\n",
       "    <tr>\n",
       "      <th>100822</th>\n",
       "      <td>193609</td>\n",
       "      <td>Andrew Dice Clay: Dice Rules (1991)</td>\n",
       "      <td>Comedy</td>\n",
       "      <td>101726</td>\n",
       "      <td>37891</td>\n",
       "      <td>101726</td>\n",
       "      <td>37891</td>\n",
       "      <td>331</td>\n",
       "      <td>4.0</td>\n",
       "      <td>1537157606</td>\n",
       "    </tr>\n",
       "  </tbody>\n",
       "</table>\n",
       "<p>100823 rows × 10 columns</p>\n",
       "</div>"
      ],
      "text/plain": [
       "        movieId                                      title  \\\n",
       "0             1                           Toy Story (1995)   \n",
       "1             1                           Toy Story (1995)   \n",
       "2             1                           Toy Story (1995)   \n",
       "3             1                           Toy Story (1995)   \n",
       "4             1                           Toy Story (1995)   \n",
       "...         ...                                        ...   \n",
       "100818   193581  Black Butler: Book of the Atlantic (2017)   \n",
       "100819   193583               No Game No Life: Zero (2017)   \n",
       "100820   193585                               Flint (2017)   \n",
       "100821   193587        Bungo Stray Dogs: Dead Apple (2018)   \n",
       "100822   193609        Andrew Dice Clay: Dice Rules (1991)   \n",
       "\n",
       "                                             genres  imdbId_x  tmdbId_x  \\\n",
       "0       Adventure|Animation|Children|Comedy|Fantasy    114709       862   \n",
       "1       Adventure|Animation|Children|Comedy|Fantasy    114709       862   \n",
       "2       Adventure|Animation|Children|Comedy|Fantasy    114709       862   \n",
       "3       Adventure|Animation|Children|Comedy|Fantasy    114709       862   \n",
       "4       Adventure|Animation|Children|Comedy|Fantasy    114709       862   \n",
       "...                                             ...       ...       ...   \n",
       "100818              Action|Animation|Comedy|Fantasy   5476944    432131   \n",
       "100819                     Animation|Comedy|Fantasy   5914996    445030   \n",
       "100820                                        Drama   6397426    479308   \n",
       "100821                             Action|Animation   8391976    483455   \n",
       "100822                                       Comedy    101726     37891   \n",
       "\n",
       "        imdbId_y  tmdbId_y  userId  rating   timestamp  \n",
       "0         114709       862       1     4.0   964982703  \n",
       "1         114709       862       5     4.0   847434962  \n",
       "2         114709       862       7     4.5  1106635946  \n",
       "3         114709       862      15     2.5  1510577970  \n",
       "4         114709       862      17     4.5  1305696483  \n",
       "...          ...       ...     ...     ...         ...  \n",
       "100818   5476944    432131     184     4.0  1537109082  \n",
       "100819   5914996    445030     184     3.5  1537109545  \n",
       "100820   6397426    479308     184     3.5  1537109805  \n",
       "100821   8391976    483455     184     3.5  1537110021  \n",
       "100822    101726     37891     331     4.0  1537157606  \n",
       "\n",
       "[100823 rows x 10 columns]"
      ]
     },
     "execution_count": 50,
     "metadata": {},
     "output_type": "execute_result"
    }
   ],
   "source": [
    "#Confirming the merged dataframe\n",
    "movie_and_ratings"
   ]
  },
  {
   "cell_type": "markdown",
   "metadata": {},
   "source": [
    "### 5. Collaborative Filtering Model"
   ]
  },
  {
   "cell_type": "code",
   "execution_count": 33,
   "metadata": {},
   "outputs": [
    {
     "name": "stdout",
     "output_type": "stream",
     "text": [
      "Evaluating RMSE, MAE of algorithm SVD on 5 split(s).\n",
      "\n",
      "                  Fold 1  Fold 2  Fold 3  Fold 4  Fold 5  Mean    Std     \n",
      "RMSE (testset)    0.8739  0.8741  0.8676  0.8710  0.8842  0.8742  0.0055  \n",
      "MAE (testset)     0.6713  0.6728  0.6628  0.6704  0.6809  0.6716  0.0058  \n",
      "Fit time          1.03    1.02    1.09    1.02    1.04    1.04    0.03    \n",
      "Test time         0.18    0.21    0.13    0.12    0.13    0.15    0.03    \n"
     ]
    },
    {
     "data": {
      "text/plain": [
       "{'test_rmse': array([0.87386766, 0.87409401, 0.86764428, 0.87101403, 0.88423367]),\n",
       " 'test_mae': array([0.67126038, 0.67275383, 0.66282445, 0.67038939, 0.68086948]),\n",
       " 'fit_time': (1.0321087837219238,\n",
       "  1.018277883529663,\n",
       "  1.0901145935058594,\n",
       "  1.022503137588501,\n",
       "  1.0431993007659912),\n",
       " 'test_time': (0.17942190170288086,\n",
       "  0.20947909355163574,\n",
       "  0.12865996360778809,\n",
       "  0.121673583984375,\n",
       "  0.12962651252746582)}"
      ]
     },
     "execution_count": 33,
     "metadata": {},
     "output_type": "execute_result"
    }
   ],
   "source": [
    "#Creating a svd algorithm\n",
    "#Use the cross_validate function to apply K-fold cross-validation on the data for the SVD model\n",
    "#Set the number of folds to 5 for the cross-validation\n",
    "#The evaluation metrics used are RMSE (Root Mean Squared Error) and MAE (Mean Absolute Error)\n",
    "#Set the verbose parameter to True to show more details during cross-validation\n",
    "svd = SVD()\n",
    "cross_validate(svd, data, measures=['RMSE', 'MAE'], cv=5, verbose=True)"
   ]
  },
  {
   "cell_type": "markdown",
   "metadata": {},
   "source": [
    "### 6. Content-Based Filtering"
   ]
  },
  {
   "cell_type": "code",
   "execution_count": 38,
   "metadata": {},
   "outputs": [],
   "source": [
    "#Create a TF-IDF vectorizer object called 'tfidf' with English stop words.\n",
    "tfidf = TfidfVectorizer(stop_words='english')\n",
    "\n",
    "#Fill missing values in the 'genres' column of a DataFrame 'movie' with empty string\n",
    "movie['genres'] = movie['genres'].fillna('') \n",
    "\n",
    "#Use the TF-IDF vectorizer to transform the 'genres' column of 'movie' into a TF-IDF matrix called 'tfidf_matrix.'\n",
    "tfidf_matrix = tfidf.fit_transform(movie['genres'])\n",
    "\n",
    "#Calculating the cosine similarity between rows of 'tfidf_matrix' using the 'linear_kernel' function, resulting in a similarity matrix called 'cosine_sim.' This matrix will help determine the similarity between movies based on their genre descriptions.\n",
    "cosine_sim = linear_kernel(tfidf_matrix, tfidf_matrix)"
   ]
  },
  {
   "cell_type": "markdown",
   "metadata": {},
   "source": [
    "Define a function 'content_based_recommend_movies' that takes a movie title and an optional parameter 'n' (default is 10) for the number of recommendations"
   ]
  },
  {
   "cell_type": "code",
   "execution_count": 42,
   "metadata": {},
   "outputs": [],
   "source": [
    "#Create a Pandas Series named 'indices' with movie indices as values and movie titles as the index, removing duplicates.\n",
    "indices = pd.Series(movie.index, index=movie['title']).drop_duplicates()\n",
    "\n",
    "#Define a function 'content_based_recommend_movies' that takes a movie title and an optional parameter 'n' (default is 10) for the number of recommendations.\n",
    "def content_based_recommend_movies(title, n=10):\n",
    "    #Retrieve the index of the input movie title from the 'indices' Series.\n",
    "    index = indices[title]\n",
    "\n",
    "    #Calculate cosine similarity scores between the input movie and all other movies, storing them as a list of tuples.\n",
    "    sim_scores = list(enumerate(cosine_sim[index]))\n",
    "\n",
    "    #Sorting the similarity scores in descending order.\n",
    "    sim_scores = sorted(sim_scores, key=lambda x: x[1], reverse=True)\n",
    "    \n",
    "    #Select the top 'n' similar movies (excluding the input movie itself).\n",
    "    sim_scores = sim_scores[1:n+1]\n",
    "\n",
    "    #Extract the indices of the recommended movies.\n",
    "    movie_indices = [i[0] for i in sim_scores]\n",
    "\n",
    "    #Return the titles of the recommended movies based on their indices from the 'movie' DataFrame.\n",
    "    return movie['title'].iloc[movie_indices]"
   ]
  },
  {
   "cell_type": "markdown",
   "metadata": {},
   "source": [
    "Define a function 'combined_collab_and_content_based_recs' that takes a user ID, a movie title, and an optional parameter 'n' (default is 10) for the number of recommendations."
   ]
  },
  {
   "cell_type": "code",
   "execution_count": 43,
   "metadata": {},
   "outputs": [],
   "source": [
    "#Define a function 'combined_collab_and_content_based_recs' that takes a user ID, a movie title, and an optional parameter 'n' (default is 10) for the number of recommendations.\n",
    "def combined_collab_and_content_based_recs(user_id, title, n=10 ):\n",
    "    #Generate content-based movie recommendations using the 'content_based_recommend_movies' function, store them in a DataFrame, and rename the column to 'title.'\n",
    "    cont_based = content_based_recommend_movies(title, n).to_frame()\n",
    "    cont_based.columns = ['title']\n",
    "\n",
    "    #Merge the content-based recommendations DataFrame with 'movie_and_ratings' on the 'title' column.\n",
    "    content_based_recommend = cont_based.merge(movie_and_ratings, on='title')\n",
    "\n",
    "    #Remove duplicate movie titles from the merged DataFrame, keeping only the first occurrence.\n",
    "    content_based_recommend = content_based_recommend.drop_duplicates(subset=['title'], keep='first')\n",
    "    \n",
    "    #Estimate user ratings for the recommended movies using collaborative filtering with Singular Value Decomposition (SVD).\n",
    "    content_based_recommend['est'] = content_based_recommend['movieId'].apply(lambda x: svd.predict(user_id, x).est)\n",
    "\n",
    "    #Sort the DataFrame of recommendations by estimated ratings ('est') in descending order.\n",
    "    content_based_recommend = content_based_recommend.sort_values(by='est', ascending=False)\n",
    "\n",
    "    #Return the top 'n' movie titles with the highest estimated ratings as recommendations for the user.\n",
    "    return content_based_recommend.head(n)['title']"
   ]
  },
  {
   "cell_type": "markdown",
   "metadata": {},
   "source": [
    "### 7. Testing the Recommendation System"
   ]
  },
  {
   "cell_type": "code",
   "execution_count": 47,
   "metadata": {},
   "outputs": [
    {
     "name": "stdout",
     "output_type": "stream",
     "text": [
      "Top 5 recommended movies for user 2 are Flint (2017):\n",
      "1. Cry, the Beloved Country (1995)\n",
      "2. Georgia (1995)\n",
      "3. Othello (1995)\n",
      "4. Restoration (1995)\n",
      "5. Dangerous Minds (1995)\n"
     ]
    }
   ],
   "source": [
    "user_id = 2\n",
    "title = \"Flint (2017)\"\n",
    "n = 5\n",
    "\n",
    "# Call the 'combined_collab_and_content_based_recs' function with the specified user ID, movie title, and the number of recommendations.\n",
    "rec = combined_collab_and_content_based_recs(user_id, title, n)\n",
    "\n",
    "#Convert the recommendations 'rec' to a list of recommended movie titles and store them in 'recommended_movies.'\n",
    "recommended_movies = rec.tolist()\n",
    "\n",
    "#Print a message indicating the top 5 recommended movies for user\n",
    "print(f\"Top {n} recommended movies for user {user_id} are {title}:\")\n",
    "\n",
    "#Iterate through the 'recommended_movies' list, numbering each recommendation, and print them in the specified format with their titles.\n",
    "for i, movie_title in enumerate(recommended_movies, start=1):\n",
    "    print(f\"{i}. {movie_title}\")"
   ]
  },
  {
   "cell_type": "markdown",
   "metadata": {},
   "source": [
    "### 8. Conclusions"
   ]
  }
 ],
 "metadata": {
  "kernelspec": {
   "display_name": "learn-env",
   "language": "python",
   "name": "python3"
  },
  "language_info": {
   "codemirror_mode": {
    "name": "ipython",
    "version": 3
   },
   "file_extension": ".py",
   "mimetype": "text/x-python",
   "name": "python",
   "nbconvert_exporter": "python",
   "pygments_lexer": "ipython3",
   "version": "3.10.11"
  },
  "orig_nbformat": 4
 },
 "nbformat": 4,
 "nbformat_minor": 2
}
